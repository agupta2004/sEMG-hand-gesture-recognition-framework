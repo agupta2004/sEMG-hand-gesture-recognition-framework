{
  "nbformat": 4,
  "nbformat_minor": 0,
  "metadata": {
    "colab": {
      "provenance": []
    },
    "kernelspec": {
      "name": "python3",
      "display_name": "Python 3"
    },
    "language_info": {
      "name": "python"
    }
  },
  "cells": [
    {
      "cell_type": "code",
      "execution_count": 1,
      "metadata": {
        "colab": {
          "base_uri": "https://localhost:8080/"
        },
        "id": "XILJs6V5cnCe",
        "outputId": "8e1752c9-7a36-481a-894d-c5091e08beba"
      },
      "outputs": [
        {
          "output_type": "stream",
          "name": "stdout",
          "text": [
            "Requirement already satisfied: numpy in /usr/local/lib/python3.11/dist-packages (2.0.2)\n",
            "Requirement already satisfied: pandas in /usr/local/lib/python3.11/dist-packages (2.2.2)\n",
            "Requirement already satisfied: matplotlib in /usr/local/lib/python3.11/dist-packages (3.10.0)\n",
            "Requirement already satisfied: tensorflow in /usr/local/lib/python3.11/dist-packages (2.18.0)\n",
            "Requirement already satisfied: keras in /usr/local/lib/python3.11/dist-packages (3.8.0)\n",
            "Requirement already satisfied: scikit-learn in /usr/local/lib/python3.11/dist-packages (1.6.1)\n",
            "Collecting vmdpy\n",
            "  Downloading vmdpy-0.2-py2.py3-none-any.whl.metadata (3.0 kB)\n",
            "Requirement already satisfied: scipy in /usr/local/lib/python3.11/dist-packages (1.16.0)\n",
            "Requirement already satisfied: python-dateutil>=2.8.2 in /usr/local/lib/python3.11/dist-packages (from pandas) (2.9.0.post0)\n",
            "Requirement already satisfied: pytz>=2020.1 in /usr/local/lib/python3.11/dist-packages (from pandas) (2025.2)\n",
            "Requirement already satisfied: tzdata>=2022.7 in /usr/local/lib/python3.11/dist-packages (from pandas) (2025.2)\n",
            "Requirement already satisfied: contourpy>=1.0.1 in /usr/local/lib/python3.11/dist-packages (from matplotlib) (1.3.2)\n",
            "Requirement already satisfied: cycler>=0.10 in /usr/local/lib/python3.11/dist-packages (from matplotlib) (0.12.1)\n",
            "Requirement already satisfied: fonttools>=4.22.0 in /usr/local/lib/python3.11/dist-packages (from matplotlib) (4.59.0)\n",
            "Requirement already satisfied: kiwisolver>=1.3.1 in /usr/local/lib/python3.11/dist-packages (from matplotlib) (1.4.8)\n",
            "Requirement already satisfied: packaging>=20.0 in /usr/local/lib/python3.11/dist-packages (from matplotlib) (25.0)\n",
            "Requirement already satisfied: pillow>=8 in /usr/local/lib/python3.11/dist-packages (from matplotlib) (11.3.0)\n",
            "Requirement already satisfied: pyparsing>=2.3.1 in /usr/local/lib/python3.11/dist-packages (from matplotlib) (3.2.3)\n",
            "Requirement already satisfied: absl-py>=1.0.0 in /usr/local/lib/python3.11/dist-packages (from tensorflow) (1.4.0)\n",
            "Requirement already satisfied: astunparse>=1.6.0 in /usr/local/lib/python3.11/dist-packages (from tensorflow) (1.6.3)\n",
            "Requirement already satisfied: flatbuffers>=24.3.25 in /usr/local/lib/python3.11/dist-packages (from tensorflow) (25.2.10)\n",
            "Requirement already satisfied: gast!=0.5.0,!=0.5.1,!=0.5.2,>=0.2.1 in /usr/local/lib/python3.11/dist-packages (from tensorflow) (0.6.0)\n",
            "Requirement already satisfied: google-pasta>=0.1.1 in /usr/local/lib/python3.11/dist-packages (from tensorflow) (0.2.0)\n",
            "Requirement already satisfied: libclang>=13.0.0 in /usr/local/lib/python3.11/dist-packages (from tensorflow) (18.1.1)\n",
            "Requirement already satisfied: opt-einsum>=2.3.2 in /usr/local/lib/python3.11/dist-packages (from tensorflow) (3.4.0)\n",
            "Requirement already satisfied: protobuf!=4.21.0,!=4.21.1,!=4.21.2,!=4.21.3,!=4.21.4,!=4.21.5,<6.0.0dev,>=3.20.3 in /usr/local/lib/python3.11/dist-packages (from tensorflow) (5.29.5)\n",
            "Requirement already satisfied: requests<3,>=2.21.0 in /usr/local/lib/python3.11/dist-packages (from tensorflow) (2.32.3)\n",
            "Requirement already satisfied: setuptools in /usr/local/lib/python3.11/dist-packages (from tensorflow) (75.2.0)\n",
            "Requirement already satisfied: six>=1.12.0 in /usr/local/lib/python3.11/dist-packages (from tensorflow) (1.17.0)\n",
            "Requirement already satisfied: termcolor>=1.1.0 in /usr/local/lib/python3.11/dist-packages (from tensorflow) (3.1.0)\n",
            "Requirement already satisfied: typing-extensions>=3.6.6 in /usr/local/lib/python3.11/dist-packages (from tensorflow) (4.14.1)\n",
            "Requirement already satisfied: wrapt>=1.11.0 in /usr/local/lib/python3.11/dist-packages (from tensorflow) (1.17.2)\n",
            "Requirement already satisfied: grpcio<2.0,>=1.24.3 in /usr/local/lib/python3.11/dist-packages (from tensorflow) (1.74.0)\n",
            "Requirement already satisfied: tensorboard<2.19,>=2.18 in /usr/local/lib/python3.11/dist-packages (from tensorflow) (2.18.0)\n",
            "Requirement already satisfied: h5py>=3.11.0 in /usr/local/lib/python3.11/dist-packages (from tensorflow) (3.14.0)\n",
            "Requirement already satisfied: ml-dtypes<0.5.0,>=0.4.0 in /usr/local/lib/python3.11/dist-packages (from tensorflow) (0.4.1)\n",
            "Requirement already satisfied: tensorflow-io-gcs-filesystem>=0.23.1 in /usr/local/lib/python3.11/dist-packages (from tensorflow) (0.37.1)\n",
            "Requirement already satisfied: rich in /usr/local/lib/python3.11/dist-packages (from keras) (13.9.4)\n",
            "Requirement already satisfied: namex in /usr/local/lib/python3.11/dist-packages (from keras) (0.1.0)\n",
            "Requirement already satisfied: optree in /usr/local/lib/python3.11/dist-packages (from keras) (0.17.0)\n",
            "Requirement already satisfied: joblib>=1.2.0 in /usr/local/lib/python3.11/dist-packages (from scikit-learn) (1.5.1)\n",
            "Requirement already satisfied: threadpoolctl>=3.1.0 in /usr/local/lib/python3.11/dist-packages (from scikit-learn) (3.6.0)\n",
            "Requirement already satisfied: wheel<1.0,>=0.23.0 in /usr/local/lib/python3.11/dist-packages (from astunparse>=1.6.0->tensorflow) (0.45.1)\n",
            "Requirement already satisfied: charset-normalizer<4,>=2 in /usr/local/lib/python3.11/dist-packages (from requests<3,>=2.21.0->tensorflow) (3.4.2)\n",
            "Requirement already satisfied: idna<4,>=2.5 in /usr/local/lib/python3.11/dist-packages (from requests<3,>=2.21.0->tensorflow) (3.10)\n",
            "Requirement already satisfied: urllib3<3,>=1.21.1 in /usr/local/lib/python3.11/dist-packages (from requests<3,>=2.21.0->tensorflow) (2.5.0)\n",
            "Requirement already satisfied: certifi>=2017.4.17 in /usr/local/lib/python3.11/dist-packages (from requests<3,>=2.21.0->tensorflow) (2025.7.14)\n",
            "Requirement already satisfied: markdown>=2.6.8 in /usr/local/lib/python3.11/dist-packages (from tensorboard<2.19,>=2.18->tensorflow) (3.8.2)\n",
            "Requirement already satisfied: tensorboard-data-server<0.8.0,>=0.7.0 in /usr/local/lib/python3.11/dist-packages (from tensorboard<2.19,>=2.18->tensorflow) (0.7.2)\n",
            "Requirement already satisfied: werkzeug>=1.0.1 in /usr/local/lib/python3.11/dist-packages (from tensorboard<2.19,>=2.18->tensorflow) (3.1.3)\n",
            "Requirement already satisfied: markdown-it-py>=2.2.0 in /usr/local/lib/python3.11/dist-packages (from rich->keras) (3.0.0)\n",
            "Requirement already satisfied: pygments<3.0.0,>=2.13.0 in /usr/local/lib/python3.11/dist-packages (from rich->keras) (2.19.2)\n",
            "Requirement already satisfied: mdurl~=0.1 in /usr/local/lib/python3.11/dist-packages (from markdown-it-py>=2.2.0->rich->keras) (0.1.2)\n",
            "Requirement already satisfied: MarkupSafe>=2.1.1 in /usr/local/lib/python3.11/dist-packages (from werkzeug>=1.0.1->tensorboard<2.19,>=2.18->tensorflow) (3.0.2)\n",
            "Downloading vmdpy-0.2-py2.py3-none-any.whl (6.5 kB)\n",
            "Installing collected packages: vmdpy\n",
            "Successfully installed vmdpy-0.2\n"
          ]
        }
      ],
      "source": [
        "pip install numpy pandas matplotlib tensorflow keras scikit-learn vmdpy scipy"
      ]
    },
    {
      "cell_type": "markdown",
      "source": [
        "# For Better Accuracy"
      ],
      "metadata": {
        "id": "NZWl3XRLrY1Y"
      }
    },
    {
      "cell_type": "code",
      "source": [
        "import os\n",
        "import scipy.io as sio\n",
        "import numpy as np\n",
        "\n",
        "# Base dataset folder\n",
        "data_path = \"/content/drive/MyDrive/Ninapro sEMG Dataset\"\n",
        "\n",
        "def load_all_subjects_dynamic(data_path):\n",
        "    emg_all, labels_all = [], []\n",
        "\n",
        "    # Find all subject folders (like s1, s2, s3...)\n",
        "    subject_folders = sorted([f for f in os.listdir(data_path) if f.lower().startswith(\"s\")])\n",
        "\n",
        "    for subj in subject_folders:\n",
        "        subj_path = os.path.join(data_path, subj)\n",
        "\n",
        "        # Find all E1–E3 files automatically\n",
        "        mat_files = sorted([f for f in os.listdir(subj_path) if f.endswith(\".mat\")])\n",
        "\n",
        "        for file_name in mat_files:\n",
        "            file_path = os.path.join(subj_path, file_name)\n",
        "            print(f\"Loading {file_name}...\")\n",
        "\n",
        "            data = sio.loadmat(file_path)\n",
        "            emg_all.append(data['emg'])\n",
        "            labels_all.append(data['restimulus'])\n",
        "\n",
        "    return np.vstack(emg_all), np.vstack(labels_all)\n",
        "\n",
        "# 🔹 Load dataset (auto detects all subjects available)\n",
        "emg_data, labels_data = load_all_subjects_dynamic(data_path)\n",
        "\n",
        "print(\"EMG shape:\", emg_data.shape)\n",
        "print(\"Labels shape:\", labels_data.shape)\n"
      ],
      "metadata": {
        "colab": {
          "base_uri": "https://localhost:8080/"
        },
        "id": "u8_1VXMHfaup",
        "outputId": "310548eb-9733-4751-b1c7-41cd5c7ed24f"
      },
      "execution_count": 2,
      "outputs": [
        {
          "output_type": "stream",
          "name": "stdout",
          "text": [
            "Loading S1_A1_E1.mat...\n",
            "Loading S1_A1_E2.mat...\n",
            "Loading S1_A1_E3.mat...\n",
            "Loading S10_A1_E1.mat...\n",
            "Loading S10_A1_E2.mat...\n",
            "Loading S10_A1_E3.mat...\n",
            "Loading S2_A1_E1.mat...\n",
            "Loading S2_A1_E2.mat...\n",
            "Loading S2_A1_E3.mat...\n",
            "Loading S3_A1_E1.mat...\n",
            "Loading S3_A1_E2.mat...\n",
            "Loading S3_A1_E3.mat...\n",
            "Loading S4_A1_E1.mat...\n",
            "Loading S4_A1_E2.mat...\n",
            "Loading S4_A1_E3.mat...\n",
            "Loading S5_A1_E1.mat...\n",
            "Loading S5_A1_E2.mat...\n",
            "Loading S5_A1_E3.mat...\n",
            "Loading S6_A1_E1.mat...\n",
            "Loading S6_A1_E2.mat...\n",
            "Loading S6_A1_E3.mat...\n",
            "Loading S7_A1_E1.mat...\n",
            "Loading S7_A1_E2.mat...\n",
            "Loading S7_A1_E3.mat...\n",
            "Loading S8_A1_E1.mat...\n",
            "Loading S8_A1_E2.mat...\n",
            "Loading S8_A1_E3.mat...\n",
            "Loading S9_A1_E1.mat...\n",
            "Loading S9_A1_E2.mat...\n",
            "Loading S9_A1_E3.mat...\n",
            "EMG shape: (4612696, 10)\n",
            "Labels shape: (4612696, 1)\n"
          ]
        }
      ]
    },
    {
      "cell_type": "markdown",
      "source": [
        "# Overlap Segmentation, Normalization and Filtering\n",
        "\n",
        "Because for normal segmentation validation accuracy was less"
      ],
      "metadata": {
        "id": "9Y3SndjYr-rj"
      }
    },
    {
      "cell_type": "code",
      "source": [
        "import numpy as np\n",
        "from sklearn.preprocessing import StandardScaler\n",
        "from scipy.stats import mode\n",
        "from tensorflow.keras.utils import to_categorical\n",
        "from sklearn.model_selection import train_test_split\n",
        "\n",
        "# Parameters\n",
        "window_size = 500\n",
        "stride = 250  # 50% overlap\n",
        "\n",
        "# Segmentation with overlap and aligned labels\n",
        "overlap_segments = []\n",
        "overlap_labels = []\n",
        "\n",
        "for i in range(0, len(emg_data) - window_size, stride):\n",
        "    overlap_segments.append(emg_data[i:i+window_size])\n",
        "    seg_label = mode(labels_data[i:i+window_size], keepdims=True)[0][0]  # most frequent label\n",
        "    overlap_labels.append(seg_label)\n",
        "\n",
        "overlap_segments = np.array(overlap_segments)\n",
        "overlap_labels = np.array(overlap_labels)\n",
        "\n",
        "print(\"Overlap Segments shape:\", overlap_segments.shape)\n",
        "\n",
        "# Normalization (all 10 channels)\n",
        "scaler = StandardScaler()\n",
        "overlap_reshaped = overlap_segments.reshape(-1, overlap_segments.shape[-1])\n",
        "overlap_scaled = scaler.fit_transform(overlap_reshaped)\n",
        "overlap_scaled = overlap_scaled.reshape(overlap_segments.shape)\n",
        "\n",
        "print(\"Overlap Segments (normalized) shape:\", overlap_scaled.shape)\n",
        "\n",
        "# Filter gestures 1–10\n",
        "labels_clean_overlap = overlap_labels.flatten()\n",
        "valid_indices_overlap = np.where((labels_clean_overlap >= 1) & (labels_clean_overlap <= 10))[0]\n",
        "\n",
        "X_overlap = overlap_scaled[valid_indices_overlap]\n",
        "y_overlap = labels_clean_overlap[valid_indices_overlap]\n",
        "\n",
        "# One-hot encode labels\n",
        "num_classes = len(np.unique(y_overlap))\n",
        "y_overlap_cat = to_categorical(y_overlap - 1, num_classes=num_classes)\n",
        "\n",
        "# Train/Test split\n",
        "X_train_overlap, X_test_overlap, y_train_overlap, y_test_overlap = train_test_split(\n",
        "    X_overlap, y_overlap_cat,\n",
        "    test_size=0.2,\n",
        "    random_state=42,\n",
        "    stratify=y_overlap_cat\n",
        ")\n",
        "\n",
        "print(\"Overlap Train shape:\", X_train_overlap.shape, y_train_overlap.shape)\n",
        "print(\"Overlap Test shape:\", X_test_overlap.shape, y_test_overlap.shape)\n"
      ],
      "metadata": {
        "colab": {
          "base_uri": "https://localhost:8080/"
        },
        "id": "8OyWvQkKsQUW",
        "outputId": "787964c3-1994-4266-c9a9-c1167e389bfb"
      },
      "execution_count": 3,
      "outputs": [
        {
          "output_type": "stream",
          "name": "stdout",
          "text": [
            "Overlap Segments shape: (18449, 500, 10)\n",
            "Overlap Segments (normalized) shape: (18449, 500, 10)\n",
            "Overlap Train shape: (3444, 500, 10) (3444, 10)\n",
            "Overlap Test shape: (861, 500, 10) (861, 10)\n"
          ]
        }
      ]
    },
    {
      "cell_type": "markdown",
      "source": [
        "# New CNN-LSTM Model\n",
        "\n",
        "One epoch is taking around 80 seconds, whole process taken around 2 hours to execute.\n",
        "\n",
        "It is taking a lot of time for execution because:\n",
        "\n",
        "Increased data a lot s1 to s10.\n",
        "\n",
        "Heavier CNN–LSTM, Conv1D layers: 64 → 128 → 256 filters. (more parameters)\n",
        "\n",
        "Augmentation doubled dataset size. (train+aug)"
      ],
      "metadata": {
        "id": "XRCWAXXItyp_"
      }
    },
    {
      "cell_type": "code",
      "source": [
        "from tensorflow.keras.models import Sequential\n",
        "from tensorflow.keras.layers import Conv1D, MaxPooling1D, BatchNormalization, LSTM, Dense, Dropout\n",
        "from tensorflow.keras.optimizers import Adam\n",
        "from tensorflow.keras.callbacks import EarlyStopping\n",
        "import numpy as np\n",
        "\n",
        "# Augmentation Function\n",
        "def augment_emg(X):\n",
        "    X_aug = X.copy()\n",
        "    noise = np.random.normal(0, 0.02, X.shape)\n",
        "    scale = np.random.uniform(0.9, 1.1, (X.shape[0], 1, X.shape[2]))\n",
        "    shift = np.random.randint(-5, 5)\n",
        "    X_aug = np.roll(X_aug, shift, axis=1)\n",
        "    X_aug = X_aug * scale + noise\n",
        "    return X_aug\n",
        "\n",
        "# Apply augmentation\n",
        "X_train_aug = augment_emg(X_train_overlap)\n",
        "y_train_aug = y_train_overlap.copy()\n",
        "\n",
        "# Combine original + augmented\n",
        "X_train_final = np.vstack([X_train_overlap, X_train_aug])\n",
        "y_train_final = np.vstack([y_train_overlap, y_train_aug])\n",
        "\n",
        "print(\"✅ New training shape after augmentation:\", X_train_final.shape)\n",
        "\n",
        "# 🔹 Model\n",
        "model_overlap = Sequential()\n",
        "\n",
        "# CNN Block 1\n",
        "model_overlap.add(Conv1D(64, kernel_size=3, activation='relu', input_shape=(500, 10)))\n",
        "model_overlap.add(BatchNormalization())\n",
        "model_overlap.add(MaxPooling1D(pool_size=2))\n",
        "model_overlap.add(Dropout(0.3))\n",
        "\n",
        "# CNN Block 2\n",
        "model_overlap.add(Conv1D(128, kernel_size=4, activation='relu'))\n",
        "model_overlap.add(BatchNormalization())\n",
        "model_overlap.add(MaxPooling1D(pool_size=2))\n",
        "model_overlap.add(Dropout(0.3))\n",
        "\n",
        "# CNN Block 3\n",
        "model_overlap.add(Conv1D(256, kernel_size=5, activation='relu'))\n",
        "model_overlap.add(BatchNormalization())\n",
        "model_overlap.add(MaxPooling1D(pool_size=4))\n",
        "model_overlap.add(Dropout(0.4))\n",
        "\n",
        "# LSTM Layer\n",
        "model_overlap.add(LSTM(128, dropout=0.4, recurrent_dropout=0.3))\n",
        "\n",
        "# Dense Layers\n",
        "model_overlap.add(Dense(128, activation='relu'))\n",
        "model_overlap.add(Dropout(0.4))\n",
        "model_overlap.add(Dense(num_classes, activation='softmax'))\n",
        "\n",
        "# Compile\n",
        "model_overlap.compile(optimizer=Adam(learning_rate=0.0003),\n",
        "                      loss='categorical_crossentropy',\n",
        "                      metrics=['accuracy'])\n",
        "\n",
        "# Early stopping\n",
        "early_stop = EarlyStopping(monitor='val_accuracy', patience=10, restore_best_weights=True)\n",
        "\n",
        "# Train\n",
        "history_overlap = model_overlap.fit(\n",
        "    X_train_final, y_train_final,\n",
        "    validation_data=(X_test_overlap, y_test_overlap),\n",
        "    epochs=80,\n",
        "    batch_size=32,\n",
        "    callbacks=[early_stop]\n",
        ")\n"
      ],
      "metadata": {
        "colab": {
          "base_uri": "https://localhost:8080/",
          "height": 1000
        },
        "id": "hTqDbveDtrpE",
        "outputId": "c1872ae9-a05a-404c-a620-521ad56917c2"
      },
      "execution_count": 4,
      "outputs": [
        {
          "output_type": "stream",
          "name": "stdout",
          "text": [
            "✅ New training shape after augmentation: (6888, 500, 10)\n"
          ]
        },
        {
          "output_type": "stream",
          "name": "stderr",
          "text": [
            "/usr/local/lib/python3.11/dist-packages/keras/src/layers/convolutional/base_conv.py:107: UserWarning: Do not pass an `input_shape`/`input_dim` argument to a layer. When using Sequential models, prefer using an `Input(shape)` object as the first layer in the model instead.\n",
            "  super().__init__(activity_regularizer=activity_regularizer, **kwargs)\n"
          ]
        },
        {
          "output_type": "stream",
          "name": "stdout",
          "text": [
            "Epoch 1/80\n",
            "\u001b[1m216/216\u001b[0m \u001b[32m━━━━━━━━━━━━━━━━━━━━\u001b[0m\u001b[37m\u001b[0m \u001b[1m70s\u001b[0m 286ms/step - accuracy: 0.1093 - loss: 2.3451 - val_accuracy: 0.1080 - val_loss: 2.3142\n",
            "Epoch 2/80\n",
            "\u001b[1m216/216\u001b[0m \u001b[32m━━━━━━━━━━━━━━━━━━━━\u001b[0m\u001b[37m\u001b[0m \u001b[1m86s\u001b[0m 307ms/step - accuracy: 0.1350 - loss: 2.2827 - val_accuracy: 0.1498 - val_loss: 2.2597\n",
            "Epoch 3/80\n",
            "\u001b[1m216/216\u001b[0m \u001b[32m━━━━━━━━━━━━━━━━━━━━\u001b[0m\u001b[37m\u001b[0m \u001b[1m78s\u001b[0m 289ms/step - accuracy: 0.1552 - loss: 2.2418 - val_accuracy: 0.1603 - val_loss: 2.2262\n",
            "Epoch 4/80\n",
            "\u001b[1m 77/216\u001b[0m \u001b[32m━━━━━━━\u001b[0m\u001b[37m━━━━━━━━━━━━━\u001b[0m \u001b[1m40s\u001b[0m 290ms/step - accuracy: 0.1926 - loss: 2.1781"
          ]
        },
        {
          "output_type": "stream",
          "name": "stderr",
          "text": [
            "ERROR:root:Internal Python error in the inspect module.\n",
            "Below is the traceback from this internal error.\n",
            "\n"
          ]
        },
        {
          "output_type": "stream",
          "name": "stdout",
          "text": [
            "Traceback (most recent call last):\n",
            "  File \"/usr/local/lib/python3.11/dist-packages/IPython/core/interactiveshell.py\", line 3553, in run_code\n",
            "    exec(code_obj, self.user_global_ns, self.user_ns)\n",
            "  File \"/tmp/ipython-input-1102329246.py\", line 65, in <cell line: 0>\n",
            "    history_overlap = model_overlap.fit(\n",
            "                      ^^^^^^^^^^^^^^^^^^\n",
            "  File \"/usr/local/lib/python3.11/dist-packages/keras/src/utils/traceback_utils.py\", line 117, in error_handler\n",
            "    return fn(*args, **kwargs)\n",
            "           ^^^^^^^^^^^^^^^^^^^\n",
            "  File \"/usr/local/lib/python3.11/dist-packages/keras/src/backend/tensorflow/trainer.py\", line 371, in fit\n",
            "    logs = self.train_function(iterator)\n",
            "           ^^^^^^^^^^^^^^^^^^^^^^^^^^^^^\n",
            "  File \"/usr/local/lib/python3.11/dist-packages/keras/src/backend/tensorflow/trainer.py\", line 219, in function\n",
            "    opt_outputs = multi_step_on_iterator(iterator)\n",
            "                  ^^^^^^^^^^^^^^^^^^^^^^^^^^^^^^^^\n",
            "  File \"/usr/local/lib/python3.11/dist-packages/tensorflow/python/util/traceback_utils.py\", line 150, in error_handler\n",
            "    return fn(*args, **kwargs)\n",
            "           ^^^^^^^^^^^^^^^^^^^\n",
            "  File \"/usr/local/lib/python3.11/dist-packages/tensorflow/python/eager/polymorphic_function/polymorphic_function.py\", line 833, in __call__\n",
            "    result = self._call(*args, **kwds)\n",
            "             ^^^^^^^^^^^^^^^^^^^^^^^^^\n",
            "  File \"/usr/local/lib/python3.11/dist-packages/tensorflow/python/eager/polymorphic_function/polymorphic_function.py\", line 878, in _call\n",
            "    results = tracing_compilation.call_function(\n",
            "              ^^^^^^^^^^^^^^^^^^^^^^^^^^^^^^^^^^\n",
            "  File \"/usr/local/lib/python3.11/dist-packages/tensorflow/python/eager/polymorphic_function/tracing_compilation.py\", line 139, in call_function\n",
            "    return function._call_flat(  # pylint: disable=protected-access\n",
            "           ^^^^^^^^^^^^^^^^^^^^^^^^^^^^^^^^^^^^^^^^^^^^^^^^^^^^^^^^\n",
            "  File \"/usr/local/lib/python3.11/dist-packages/tensorflow/python/eager/polymorphic_function/concrete_function.py\", line 1322, in _call_flat\n",
            "    return self._inference_function.call_preflattened(args)\n",
            "           ^^^^^^^^^^^^^^^^^^^^^^^^^^^^^^^^^^^^^^^^^^^^^^^^\n",
            "  File \"/usr/local/lib/python3.11/dist-packages/tensorflow/python/eager/polymorphic_function/atomic_function.py\", line 216, in call_preflattened\n",
            "    flat_outputs = self.call_flat(*args)\n",
            "                   ^^^^^^^^^^^^^^^^^^^^^\n",
            "  File \"/usr/local/lib/python3.11/dist-packages/tensorflow/python/eager/polymorphic_function/atomic_function.py\", line 251, in call_flat\n",
            "    outputs = self._bound_context.call_function(\n",
            "              ^^^^^^^^^^^^^^^^^^^^^^^^^^^^^^^^^^\n",
            "  File \"/usr/local/lib/python3.11/dist-packages/tensorflow/python/eager/context.py\", line 1683, in call_function\n",
            "    outputs = execute.execute(\n",
            "              ^^^^^^^^^^^^^^^^\n",
            "  File \"/usr/local/lib/python3.11/dist-packages/tensorflow/python/eager/execute.py\", line 53, in quick_execute\n",
            "    tensors = pywrap_tfe.TFE_Py_Execute(ctx._handle, device_name, op_name,\n",
            "              ^^^^^^^^^^^^^^^^^^^^^^^^^^^^^^^^^^^^^^^^^^^^^^^^^^^^^^^^^^^^\n",
            "KeyboardInterrupt\n",
            "\n",
            "During handling of the above exception, another exception occurred:\n",
            "\n",
            "Traceback (most recent call last):\n",
            "  File \"/usr/local/lib/python3.11/dist-packages/IPython/core/interactiveshell.py\", line 2099, in showtraceback\n",
            "    stb = value._render_traceback_()\n",
            "          ^^^^^^^^^^^^^^^^^^^^^^^^\n",
            "AttributeError: 'KeyboardInterrupt' object has no attribute '_render_traceback_'\n",
            "\n",
            "During handling of the above exception, another exception occurred:\n",
            "\n",
            "Traceback (most recent call last):\n",
            "  File \"/usr/local/lib/python3.11/dist-packages/IPython/core/ultratb.py\", line 1101, in get_records\n",
            "    return _fixed_getinnerframes(etb, number_of_lines_of_context, tb_offset)\n",
            "           ^^^^^^^^^^^^^^^^^^^^^^^^^^^^^^^^^^^^^^^^^^^^^^^^^^^^^^^^^^^^^^^^^\n",
            "  File \"/usr/local/lib/python3.11/dist-packages/IPython/core/ultratb.py\", line 248, in wrapped\n",
            "    return f(*args, **kwargs)\n",
            "           ^^^^^^^^^^^^^^^^^^\n",
            "  File \"/usr/local/lib/python3.11/dist-packages/IPython/core/ultratb.py\", line 281, in _fixed_getinnerframes\n",
            "    records = fix_frame_records_filenames(inspect.getinnerframes(etb, context))\n",
            "                                          ^^^^^^^^^^^^^^^^^^^^^^^^^^^^^^^^^^^^\n",
            "  File \"/usr/lib/python3.11/inspect.py\", line 1739, in getinnerframes\n",
            "    traceback_info = getframeinfo(tb, context)\n",
            "                     ^^^^^^^^^^^^^^^^^^^^^^^^^\n",
            "  File \"/usr/lib/python3.11/inspect.py\", line 1684, in getframeinfo\n",
            "    filename = getsourcefile(frame) or getfile(frame)\n",
            "               ^^^^^^^^^^^^^^^^^^^^\n",
            "  File \"/usr/lib/python3.11/inspect.py\", line 948, in getsourcefile\n",
            "    module = getmodule(object, filename)\n",
            "             ^^^^^^^^^^^^^^^^^^^^^^^^^^^\n",
            "  File \"/usr/lib/python3.11/inspect.py\", line 997, in getmodule\n",
            "    os.path.realpath(f)] = module.__name__\n",
            "    ^^^^^^^^^^^^^^^^^^^\n",
            "  File \"<frozen posixpath>\", line 417, in realpath\n",
            "  File \"<frozen posixpath>\", line 400, in abspath\n",
            "  File \"<frozen posixpath>\", line 64, in isabs\n",
            "KeyboardInterrupt\n"
          ]
        },
        {
          "output_type": "error",
          "ename": "TypeError",
          "evalue": "object of type 'NoneType' has no len()",
          "traceback": [
            "\u001b[0;31m---------------------------------------------------------------------------\u001b[0m",
            "\u001b[0;31mKeyboardInterrupt\u001b[0m                         Traceback (most recent call last)",
            "    \u001b[0;31m[... skipping hidden 1 frame]\u001b[0m\n",
            "\u001b[0;32m/tmp/ipython-input-1102329246.py\u001b[0m in \u001b[0;36m<cell line: 0>\u001b[0;34m()\u001b[0m\n\u001b[1;32m     64\u001b[0m \u001b[0;31m# Train\u001b[0m\u001b[0;34m\u001b[0m\u001b[0;34m\u001b[0m\u001b[0m\n\u001b[0;32m---> 65\u001b[0;31m history_overlap = model_overlap.fit(\n\u001b[0m\u001b[1;32m     66\u001b[0m     \u001b[0mX_train_final\u001b[0m\u001b[0;34m,\u001b[0m \u001b[0my_train_final\u001b[0m\u001b[0;34m,\u001b[0m\u001b[0;34m\u001b[0m\u001b[0;34m\u001b[0m\u001b[0m\n",
            "\u001b[0;32m/usr/local/lib/python3.11/dist-packages/keras/src/utils/traceback_utils.py\u001b[0m in \u001b[0;36merror_handler\u001b[0;34m(*args, **kwargs)\u001b[0m\n\u001b[1;32m    116\u001b[0m         \u001b[0;32mtry\u001b[0m\u001b[0;34m:\u001b[0m\u001b[0;34m\u001b[0m\u001b[0;34m\u001b[0m\u001b[0m\n\u001b[0;32m--> 117\u001b[0;31m             \u001b[0;32mreturn\u001b[0m \u001b[0mfn\u001b[0m\u001b[0;34m(\u001b[0m\u001b[0;34m*\u001b[0m\u001b[0margs\u001b[0m\u001b[0;34m,\u001b[0m \u001b[0;34m**\u001b[0m\u001b[0mkwargs\u001b[0m\u001b[0;34m)\u001b[0m\u001b[0;34m\u001b[0m\u001b[0;34m\u001b[0m\u001b[0m\n\u001b[0m\u001b[1;32m    118\u001b[0m         \u001b[0;32mexcept\u001b[0m \u001b[0mException\u001b[0m \u001b[0;32mas\u001b[0m \u001b[0me\u001b[0m\u001b[0;34m:\u001b[0m\u001b[0;34m\u001b[0m\u001b[0;34m\u001b[0m\u001b[0m\n",
            "\u001b[0;32m/usr/local/lib/python3.11/dist-packages/keras/src/backend/tensorflow/trainer.py\u001b[0m in \u001b[0;36mfit\u001b[0;34m(self, x, y, batch_size, epochs, verbose, callbacks, validation_split, validation_data, shuffle, class_weight, sample_weight, initial_epoch, steps_per_epoch, validation_steps, validation_batch_size, validation_freq)\u001b[0m\n\u001b[1;32m    370\u001b[0m                     \u001b[0mcallbacks\u001b[0m\u001b[0;34m.\u001b[0m\u001b[0mon_train_batch_begin\u001b[0m\u001b[0;34m(\u001b[0m\u001b[0mstep\u001b[0m\u001b[0;34m)\u001b[0m\u001b[0;34m\u001b[0m\u001b[0;34m\u001b[0m\u001b[0m\n\u001b[0;32m--> 371\u001b[0;31m                     \u001b[0mlogs\u001b[0m \u001b[0;34m=\u001b[0m \u001b[0mself\u001b[0m\u001b[0;34m.\u001b[0m\u001b[0mtrain_function\u001b[0m\u001b[0;34m(\u001b[0m\u001b[0miterator\u001b[0m\u001b[0;34m)\u001b[0m\u001b[0;34m\u001b[0m\u001b[0;34m\u001b[0m\u001b[0m\n\u001b[0m\u001b[1;32m    372\u001b[0m                     \u001b[0mcallbacks\u001b[0m\u001b[0;34m.\u001b[0m\u001b[0mon_train_batch_end\u001b[0m\u001b[0;34m(\u001b[0m\u001b[0mstep\u001b[0m\u001b[0;34m,\u001b[0m \u001b[0mlogs\u001b[0m\u001b[0;34m)\u001b[0m\u001b[0;34m\u001b[0m\u001b[0;34m\u001b[0m\u001b[0m\n",
            "\u001b[0;32m/usr/local/lib/python3.11/dist-packages/keras/src/backend/tensorflow/trainer.py\u001b[0m in \u001b[0;36mfunction\u001b[0;34m(iterator)\u001b[0m\n\u001b[1;32m    218\u001b[0m             ):\n\u001b[0;32m--> 219\u001b[0;31m                 \u001b[0mopt_outputs\u001b[0m \u001b[0;34m=\u001b[0m \u001b[0mmulti_step_on_iterator\u001b[0m\u001b[0;34m(\u001b[0m\u001b[0miterator\u001b[0m\u001b[0;34m)\u001b[0m\u001b[0;34m\u001b[0m\u001b[0;34m\u001b[0m\u001b[0m\n\u001b[0m\u001b[1;32m    220\u001b[0m                 \u001b[0;32mif\u001b[0m \u001b[0;32mnot\u001b[0m \u001b[0mopt_outputs\u001b[0m\u001b[0;34m.\u001b[0m\u001b[0mhas_value\u001b[0m\u001b[0;34m(\u001b[0m\u001b[0;34m)\u001b[0m\u001b[0;34m:\u001b[0m\u001b[0;34m\u001b[0m\u001b[0;34m\u001b[0m\u001b[0m\n",
            "\u001b[0;32m/usr/local/lib/python3.11/dist-packages/tensorflow/python/util/traceback_utils.py\u001b[0m in \u001b[0;36merror_handler\u001b[0;34m(*args, **kwargs)\u001b[0m\n\u001b[1;32m    149\u001b[0m     \u001b[0;32mtry\u001b[0m\u001b[0;34m:\u001b[0m\u001b[0;34m\u001b[0m\u001b[0;34m\u001b[0m\u001b[0m\n\u001b[0;32m--> 150\u001b[0;31m       \u001b[0;32mreturn\u001b[0m \u001b[0mfn\u001b[0m\u001b[0;34m(\u001b[0m\u001b[0;34m*\u001b[0m\u001b[0margs\u001b[0m\u001b[0;34m,\u001b[0m \u001b[0;34m**\u001b[0m\u001b[0mkwargs\u001b[0m\u001b[0;34m)\u001b[0m\u001b[0;34m\u001b[0m\u001b[0;34m\u001b[0m\u001b[0m\n\u001b[0m\u001b[1;32m    151\u001b[0m     \u001b[0;32mexcept\u001b[0m \u001b[0mException\u001b[0m \u001b[0;32mas\u001b[0m \u001b[0me\u001b[0m\u001b[0;34m:\u001b[0m\u001b[0;34m\u001b[0m\u001b[0;34m\u001b[0m\u001b[0m\n",
            "\u001b[0;32m/usr/local/lib/python3.11/dist-packages/tensorflow/python/eager/polymorphic_function/polymorphic_function.py\u001b[0m in \u001b[0;36m__call__\u001b[0;34m(self, *args, **kwds)\u001b[0m\n\u001b[1;32m    832\u001b[0m       \u001b[0;32mwith\u001b[0m \u001b[0mOptionalXlaContext\u001b[0m\u001b[0;34m(\u001b[0m\u001b[0mself\u001b[0m\u001b[0;34m.\u001b[0m\u001b[0m_jit_compile\u001b[0m\u001b[0;34m)\u001b[0m\u001b[0;34m:\u001b[0m\u001b[0;34m\u001b[0m\u001b[0;34m\u001b[0m\u001b[0m\n\u001b[0;32m--> 833\u001b[0;31m         \u001b[0mresult\u001b[0m \u001b[0;34m=\u001b[0m \u001b[0mself\u001b[0m\u001b[0;34m.\u001b[0m\u001b[0m_call\u001b[0m\u001b[0;34m(\u001b[0m\u001b[0;34m*\u001b[0m\u001b[0margs\u001b[0m\u001b[0;34m,\u001b[0m \u001b[0;34m**\u001b[0m\u001b[0mkwds\u001b[0m\u001b[0;34m)\u001b[0m\u001b[0;34m\u001b[0m\u001b[0;34m\u001b[0m\u001b[0m\n\u001b[0m\u001b[1;32m    834\u001b[0m \u001b[0;34m\u001b[0m\u001b[0m\n",
            "\u001b[0;32m/usr/local/lib/python3.11/dist-packages/tensorflow/python/eager/polymorphic_function/polymorphic_function.py\u001b[0m in \u001b[0;36m_call\u001b[0;34m(self, *args, **kwds)\u001b[0m\n\u001b[1;32m    877\u001b[0m       \u001b[0;31m# run the first trace but we should fail if variables are created.\u001b[0m\u001b[0;34m\u001b[0m\u001b[0;34m\u001b[0m\u001b[0m\n\u001b[0;32m--> 878\u001b[0;31m       results = tracing_compilation.call_function(\n\u001b[0m\u001b[1;32m    879\u001b[0m           \u001b[0margs\u001b[0m\u001b[0;34m,\u001b[0m \u001b[0mkwds\u001b[0m\u001b[0;34m,\u001b[0m \u001b[0mself\u001b[0m\u001b[0;34m.\u001b[0m\u001b[0m_variable_creation_config\u001b[0m\u001b[0;34m\u001b[0m\u001b[0;34m\u001b[0m\u001b[0m\n",
            "\u001b[0;32m/usr/local/lib/python3.11/dist-packages/tensorflow/python/eager/polymorphic_function/tracing_compilation.py\u001b[0m in \u001b[0;36mcall_function\u001b[0;34m(args, kwargs, tracing_options)\u001b[0m\n\u001b[1;32m    138\u001b[0m   \u001b[0mflat_inputs\u001b[0m \u001b[0;34m=\u001b[0m \u001b[0mfunction\u001b[0m\u001b[0;34m.\u001b[0m\u001b[0mfunction_type\u001b[0m\u001b[0;34m.\u001b[0m\u001b[0munpack_inputs\u001b[0m\u001b[0;34m(\u001b[0m\u001b[0mbound_args\u001b[0m\u001b[0;34m)\u001b[0m\u001b[0;34m\u001b[0m\u001b[0;34m\u001b[0m\u001b[0m\n\u001b[0;32m--> 139\u001b[0;31m   return function._call_flat(  # pylint: disable=protected-access\n\u001b[0m\u001b[1;32m    140\u001b[0m       \u001b[0mflat_inputs\u001b[0m\u001b[0;34m,\u001b[0m \u001b[0mcaptured_inputs\u001b[0m\u001b[0;34m=\u001b[0m\u001b[0mfunction\u001b[0m\u001b[0;34m.\u001b[0m\u001b[0mcaptured_inputs\u001b[0m\u001b[0;34m\u001b[0m\u001b[0;34m\u001b[0m\u001b[0m\n",
            "\u001b[0;32m/usr/local/lib/python3.11/dist-packages/tensorflow/python/eager/polymorphic_function/concrete_function.py\u001b[0m in \u001b[0;36m_call_flat\u001b[0;34m(self, tensor_inputs, captured_inputs)\u001b[0m\n\u001b[1;32m   1321\u001b[0m       \u001b[0;31m# No tape is watching; skip to running the function.\u001b[0m\u001b[0;34m\u001b[0m\u001b[0;34m\u001b[0m\u001b[0m\n\u001b[0;32m-> 1322\u001b[0;31m       \u001b[0;32mreturn\u001b[0m \u001b[0mself\u001b[0m\u001b[0;34m.\u001b[0m\u001b[0m_inference_function\u001b[0m\u001b[0;34m.\u001b[0m\u001b[0mcall_preflattened\u001b[0m\u001b[0;34m(\u001b[0m\u001b[0margs\u001b[0m\u001b[0;34m)\u001b[0m\u001b[0;34m\u001b[0m\u001b[0;34m\u001b[0m\u001b[0m\n\u001b[0m\u001b[1;32m   1323\u001b[0m     forward_backward = self._select_forward_and_backward_functions(\n",
            "\u001b[0;32m/usr/local/lib/python3.11/dist-packages/tensorflow/python/eager/polymorphic_function/atomic_function.py\u001b[0m in \u001b[0;36mcall_preflattened\u001b[0;34m(self, args)\u001b[0m\n\u001b[1;32m    215\u001b[0m     \u001b[0;34m\"\"\"Calls with flattened tensor inputs and returns the structured output.\"\"\"\u001b[0m\u001b[0;34m\u001b[0m\u001b[0;34m\u001b[0m\u001b[0m\n\u001b[0;32m--> 216\u001b[0;31m     \u001b[0mflat_outputs\u001b[0m \u001b[0;34m=\u001b[0m \u001b[0mself\u001b[0m\u001b[0;34m.\u001b[0m\u001b[0mcall_flat\u001b[0m\u001b[0;34m(\u001b[0m\u001b[0;34m*\u001b[0m\u001b[0margs\u001b[0m\u001b[0;34m)\u001b[0m\u001b[0;34m\u001b[0m\u001b[0;34m\u001b[0m\u001b[0m\n\u001b[0m\u001b[1;32m    217\u001b[0m     \u001b[0;32mreturn\u001b[0m \u001b[0mself\u001b[0m\u001b[0;34m.\u001b[0m\u001b[0mfunction_type\u001b[0m\u001b[0;34m.\u001b[0m\u001b[0mpack_output\u001b[0m\u001b[0;34m(\u001b[0m\u001b[0mflat_outputs\u001b[0m\u001b[0;34m)\u001b[0m\u001b[0;34m\u001b[0m\u001b[0;34m\u001b[0m\u001b[0m\n",
            "\u001b[0;32m/usr/local/lib/python3.11/dist-packages/tensorflow/python/eager/polymorphic_function/atomic_function.py\u001b[0m in \u001b[0;36mcall_flat\u001b[0;34m(self, *args)\u001b[0m\n\u001b[1;32m    250\u001b[0m           \u001b[0;32mif\u001b[0m \u001b[0mself\u001b[0m\u001b[0;34m.\u001b[0m\u001b[0m_bound_context\u001b[0m\u001b[0;34m.\u001b[0m\u001b[0mexecuting_eagerly\u001b[0m\u001b[0;34m(\u001b[0m\u001b[0;34m)\u001b[0m\u001b[0;34m:\u001b[0m\u001b[0;34m\u001b[0m\u001b[0;34m\u001b[0m\u001b[0m\n\u001b[0;32m--> 251\u001b[0;31m             outputs = self._bound_context.call_function(\n\u001b[0m\u001b[1;32m    252\u001b[0m                 \u001b[0mself\u001b[0m\u001b[0;34m.\u001b[0m\u001b[0mname\u001b[0m\u001b[0;34m,\u001b[0m\u001b[0;34m\u001b[0m\u001b[0;34m\u001b[0m\u001b[0m\n",
            "\u001b[0;32m/usr/local/lib/python3.11/dist-packages/tensorflow/python/eager/context.py\u001b[0m in \u001b[0;36mcall_function\u001b[0;34m(self, name, tensor_inputs, num_outputs)\u001b[0m\n\u001b[1;32m   1682\u001b[0m     \u001b[0;32mif\u001b[0m \u001b[0mcancellation_context\u001b[0m \u001b[0;32mis\u001b[0m \u001b[0;32mNone\u001b[0m\u001b[0;34m:\u001b[0m\u001b[0;34m\u001b[0m\u001b[0;34m\u001b[0m\u001b[0m\n\u001b[0;32m-> 1683\u001b[0;31m       outputs = execute.execute(\n\u001b[0m\u001b[1;32m   1684\u001b[0m           \u001b[0mname\u001b[0m\u001b[0;34m.\u001b[0m\u001b[0mdecode\u001b[0m\u001b[0;34m(\u001b[0m\u001b[0;34m\"utf-8\"\u001b[0m\u001b[0;34m)\u001b[0m\u001b[0;34m,\u001b[0m\u001b[0;34m\u001b[0m\u001b[0;34m\u001b[0m\u001b[0m\n",
            "\u001b[0;32m/usr/local/lib/python3.11/dist-packages/tensorflow/python/eager/execute.py\u001b[0m in \u001b[0;36mquick_execute\u001b[0;34m(op_name, num_outputs, inputs, attrs, ctx, name)\u001b[0m\n\u001b[1;32m     52\u001b[0m     \u001b[0mctx\u001b[0m\u001b[0;34m.\u001b[0m\u001b[0mensure_initialized\u001b[0m\u001b[0;34m(\u001b[0m\u001b[0;34m)\u001b[0m\u001b[0;34m\u001b[0m\u001b[0;34m\u001b[0m\u001b[0m\n\u001b[0;32m---> 53\u001b[0;31m     tensors = pywrap_tfe.TFE_Py_Execute(ctx._handle, device_name, op_name,\n\u001b[0m\u001b[1;32m     54\u001b[0m                                         inputs, attrs, num_outputs)\n",
            "\u001b[0;31mKeyboardInterrupt\u001b[0m: ",
            "\nDuring handling of the above exception, another exception occurred:\n",
            "\u001b[0;31mAttributeError\u001b[0m                            Traceback (most recent call last)",
            "\u001b[0;32m/usr/local/lib/python3.11/dist-packages/IPython/core/interactiveshell.py\u001b[0m in \u001b[0;36mshowtraceback\u001b[0;34m(self, exc_tuple, filename, tb_offset, exception_only, running_compiled_code)\u001b[0m\n\u001b[1;32m   2098\u001b[0m                         \u001b[0;31m# in the engines. This should return a list of strings.\u001b[0m\u001b[0;34m\u001b[0m\u001b[0;34m\u001b[0m\u001b[0m\n\u001b[0;32m-> 2099\u001b[0;31m                         \u001b[0mstb\u001b[0m \u001b[0;34m=\u001b[0m \u001b[0mvalue\u001b[0m\u001b[0;34m.\u001b[0m\u001b[0m_render_traceback_\u001b[0m\u001b[0;34m(\u001b[0m\u001b[0;34m)\u001b[0m\u001b[0;34m\u001b[0m\u001b[0;34m\u001b[0m\u001b[0m\n\u001b[0m\u001b[1;32m   2100\u001b[0m                     \u001b[0;32mexcept\u001b[0m \u001b[0mException\u001b[0m\u001b[0;34m:\u001b[0m\u001b[0;34m\u001b[0m\u001b[0;34m\u001b[0m\u001b[0m\n",
            "\u001b[0;31mAttributeError\u001b[0m: 'KeyboardInterrupt' object has no attribute '_render_traceback_'",
            "\nDuring handling of the above exception, another exception occurred:\n",
            "\u001b[0;31mTypeError\u001b[0m                                 Traceback (most recent call last)",
            "    \u001b[0;31m[... skipping hidden 1 frame]\u001b[0m\n",
            "\u001b[0;32m/usr/local/lib/python3.11/dist-packages/IPython/core/interactiveshell.py\u001b[0m in \u001b[0;36mshowtraceback\u001b[0;34m(self, exc_tuple, filename, tb_offset, exception_only, running_compiled_code)\u001b[0m\n\u001b[1;32m   2099\u001b[0m                         \u001b[0mstb\u001b[0m \u001b[0;34m=\u001b[0m \u001b[0mvalue\u001b[0m\u001b[0;34m.\u001b[0m\u001b[0m_render_traceback_\u001b[0m\u001b[0;34m(\u001b[0m\u001b[0;34m)\u001b[0m\u001b[0;34m\u001b[0m\u001b[0;34m\u001b[0m\u001b[0m\n\u001b[1;32m   2100\u001b[0m                     \u001b[0;32mexcept\u001b[0m \u001b[0mException\u001b[0m\u001b[0;34m:\u001b[0m\u001b[0;34m\u001b[0m\u001b[0;34m\u001b[0m\u001b[0m\n\u001b[0;32m-> 2101\u001b[0;31m                         stb = self.InteractiveTB.structured_traceback(etype,\n\u001b[0m\u001b[1;32m   2102\u001b[0m                                             value, tb, tb_offset=tb_offset)\n\u001b[1;32m   2103\u001b[0m \u001b[0;34m\u001b[0m\u001b[0m\n",
            "\u001b[0;32m/usr/local/lib/python3.11/dist-packages/IPython/core/ultratb.py\u001b[0m in \u001b[0;36mstructured_traceback\u001b[0;34m(self, etype, value, tb, tb_offset, number_of_lines_of_context)\u001b[0m\n\u001b[1;32m   1365\u001b[0m         \u001b[0;32melse\u001b[0m\u001b[0;34m:\u001b[0m\u001b[0;34m\u001b[0m\u001b[0;34m\u001b[0m\u001b[0m\n\u001b[1;32m   1366\u001b[0m             \u001b[0mself\u001b[0m\u001b[0;34m.\u001b[0m\u001b[0mtb\u001b[0m \u001b[0;34m=\u001b[0m \u001b[0mtb\u001b[0m\u001b[0;34m\u001b[0m\u001b[0;34m\u001b[0m\u001b[0m\n\u001b[0;32m-> 1367\u001b[0;31m         return FormattedTB.structured_traceback(\n\u001b[0m\u001b[1;32m   1368\u001b[0m             self, etype, value, tb, tb_offset, number_of_lines_of_context)\n\u001b[1;32m   1369\u001b[0m \u001b[0;34m\u001b[0m\u001b[0m\n",
            "\u001b[0;32m/usr/local/lib/python3.11/dist-packages/IPython/core/ultratb.py\u001b[0m in \u001b[0;36mstructured_traceback\u001b[0;34m(self, etype, value, tb, tb_offset, number_of_lines_of_context)\u001b[0m\n\u001b[1;32m   1265\u001b[0m         \u001b[0;32mif\u001b[0m \u001b[0mmode\u001b[0m \u001b[0;32min\u001b[0m \u001b[0mself\u001b[0m\u001b[0;34m.\u001b[0m\u001b[0mverbose_modes\u001b[0m\u001b[0;34m:\u001b[0m\u001b[0;34m\u001b[0m\u001b[0;34m\u001b[0m\u001b[0m\n\u001b[1;32m   1266\u001b[0m             \u001b[0;31m# Verbose modes need a full traceback\u001b[0m\u001b[0;34m\u001b[0m\u001b[0;34m\u001b[0m\u001b[0m\n\u001b[0;32m-> 1267\u001b[0;31m             return VerboseTB.structured_traceback(\n\u001b[0m\u001b[1;32m   1268\u001b[0m                 \u001b[0mself\u001b[0m\u001b[0;34m,\u001b[0m \u001b[0metype\u001b[0m\u001b[0;34m,\u001b[0m \u001b[0mvalue\u001b[0m\u001b[0;34m,\u001b[0m \u001b[0mtb\u001b[0m\u001b[0;34m,\u001b[0m \u001b[0mtb_offset\u001b[0m\u001b[0;34m,\u001b[0m \u001b[0mnumber_of_lines_of_context\u001b[0m\u001b[0;34m\u001b[0m\u001b[0;34m\u001b[0m\u001b[0m\n\u001b[1;32m   1269\u001b[0m             )\n",
            "\u001b[0;32m/usr/local/lib/python3.11/dist-packages/IPython/core/ultratb.py\u001b[0m in \u001b[0;36mstructured_traceback\u001b[0;34m(self, etype, evalue, etb, tb_offset, number_of_lines_of_context)\u001b[0m\n\u001b[1;32m   1122\u001b[0m         \u001b[0;34m\"\"\"Return a nice text document describing the traceback.\"\"\"\u001b[0m\u001b[0;34m\u001b[0m\u001b[0;34m\u001b[0m\u001b[0m\n\u001b[1;32m   1123\u001b[0m \u001b[0;34m\u001b[0m\u001b[0m\n\u001b[0;32m-> 1124\u001b[0;31m         formatted_exception = self.format_exception_as_a_whole(etype, evalue, etb, number_of_lines_of_context,\n\u001b[0m\u001b[1;32m   1125\u001b[0m                                                                tb_offset)\n\u001b[1;32m   1126\u001b[0m \u001b[0;34m\u001b[0m\u001b[0m\n",
            "\u001b[0;32m/usr/local/lib/python3.11/dist-packages/IPython/core/ultratb.py\u001b[0m in \u001b[0;36mformat_exception_as_a_whole\u001b[0;34m(self, etype, evalue, etb, number_of_lines_of_context, tb_offset)\u001b[0m\n\u001b[1;32m   1080\u001b[0m \u001b[0;34m\u001b[0m\u001b[0m\n\u001b[1;32m   1081\u001b[0m \u001b[0;34m\u001b[0m\u001b[0m\n\u001b[0;32m-> 1082\u001b[0;31m         \u001b[0mlast_unique\u001b[0m\u001b[0;34m,\u001b[0m \u001b[0mrecursion_repeat\u001b[0m \u001b[0;34m=\u001b[0m \u001b[0mfind_recursion\u001b[0m\u001b[0;34m(\u001b[0m\u001b[0morig_etype\u001b[0m\u001b[0;34m,\u001b[0m \u001b[0mevalue\u001b[0m\u001b[0;34m,\u001b[0m \u001b[0mrecords\u001b[0m\u001b[0;34m)\u001b[0m\u001b[0;34m\u001b[0m\u001b[0;34m\u001b[0m\u001b[0m\n\u001b[0m\u001b[1;32m   1083\u001b[0m \u001b[0;34m\u001b[0m\u001b[0m\n\u001b[1;32m   1084\u001b[0m         \u001b[0mframes\u001b[0m \u001b[0;34m=\u001b[0m \u001b[0mself\u001b[0m\u001b[0;34m.\u001b[0m\u001b[0mformat_records\u001b[0m\u001b[0;34m(\u001b[0m\u001b[0mrecords\u001b[0m\u001b[0;34m,\u001b[0m \u001b[0mlast_unique\u001b[0m\u001b[0;34m,\u001b[0m \u001b[0mrecursion_repeat\u001b[0m\u001b[0;34m)\u001b[0m\u001b[0;34m\u001b[0m\u001b[0;34m\u001b[0m\u001b[0m\n",
            "\u001b[0;32m/usr/local/lib/python3.11/dist-packages/IPython/core/ultratb.py\u001b[0m in \u001b[0;36mfind_recursion\u001b[0;34m(etype, value, records)\u001b[0m\n\u001b[1;32m    380\u001b[0m     \u001b[0;31m# first frame (from in to out) that looks different.\u001b[0m\u001b[0;34m\u001b[0m\u001b[0;34m\u001b[0m\u001b[0m\n\u001b[1;32m    381\u001b[0m     \u001b[0;32mif\u001b[0m \u001b[0;32mnot\u001b[0m \u001b[0mis_recursion_error\u001b[0m\u001b[0;34m(\u001b[0m\u001b[0metype\u001b[0m\u001b[0;34m,\u001b[0m \u001b[0mvalue\u001b[0m\u001b[0;34m,\u001b[0m \u001b[0mrecords\u001b[0m\u001b[0;34m)\u001b[0m\u001b[0;34m:\u001b[0m\u001b[0;34m\u001b[0m\u001b[0;34m\u001b[0m\u001b[0m\n\u001b[0;32m--> 382\u001b[0;31m         \u001b[0;32mreturn\u001b[0m \u001b[0mlen\u001b[0m\u001b[0;34m(\u001b[0m\u001b[0mrecords\u001b[0m\u001b[0;34m)\u001b[0m\u001b[0;34m,\u001b[0m \u001b[0;36m0\u001b[0m\u001b[0;34m\u001b[0m\u001b[0;34m\u001b[0m\u001b[0m\n\u001b[0m\u001b[1;32m    383\u001b[0m \u001b[0;34m\u001b[0m\u001b[0m\n\u001b[1;32m    384\u001b[0m     \u001b[0;31m# Select filename, lineno, func_name to track frames with\u001b[0m\u001b[0;34m\u001b[0m\u001b[0;34m\u001b[0m\u001b[0m\n",
            "\u001b[0;31mTypeError\u001b[0m: object of type 'NoneType' has no len()"
          ]
        }
      ]
    },
    {
      "cell_type": "code",
      "source": [
        "test_loss, test_acc = model_overlap.evaluate(X_test_overlap, y_test_overlap)\n",
        "print(f\"🔥 Final Validation Accuracy: {test_acc*100:.2f}%\")"
      ],
      "metadata": {
        "id": "N8dX5PYXGN6j"
      },
      "execution_count": null,
      "outputs": []
    },
    {
      "cell_type": "markdown",
      "source": [
        "# Confusion Matrix & Per-Class Accuracy"
      ],
      "metadata": {
        "id": "nvE1wytTHBqi"
      }
    },
    {
      "cell_type": "code",
      "source": [
        "import matplotlib.pyplot as plt\n",
        "import seaborn as sns\n",
        "from sklearn.metrics import confusion_matrix, classification_report\n",
        "import numpy as np\n",
        "\n",
        "# Predictions\n",
        "y_pred_probs = model_overlap.predict(X_test_overlap)\n",
        "y_pred_classes = np.argmax(y_pred_probs, axis=1)\n",
        "y_true_classes = np.argmax(y_test_overlap, axis=1)\n",
        "\n",
        "# Confusion Matrix\n",
        "cm = confusion_matrix(y_true_classes, y_pred_classes)\n",
        "plt.figure(figsize=(10, 8))\n",
        "sns.heatmap(cm, annot=True, fmt='d', cmap='Blues',\n",
        "            xticklabels=[f\"G{i}\" for i in range(1, num_classes+1)],\n",
        "            yticklabels=[f\"G{i}\" for i in range(1, num_classes+1)])\n",
        "plt.xlabel(\"Predicted\")\n",
        "plt.ylabel(\"True\")\n",
        "plt.title(\"Confusion Matrix\")\n",
        "plt.show()\n",
        "\n",
        "print(\"Classification Report:\")\n",
        "print(classification_report(y_true_classes, y_pred_classes, target_names=[f\"G{i}\" for i in range(1, num_classes+1)]))\n"
      ],
      "metadata": {
        "id": "3OZGqxTW6q67"
      },
      "execution_count": null,
      "outputs": []
    },
    {
      "cell_type": "markdown",
      "source": [
        "# Training vs Validation Accuracy & Loss"
      ],
      "metadata": {
        "id": "-FjrMhV5G6z-"
      }
    },
    {
      "cell_type": "code",
      "source": [
        "import matplotlib.pyplot as plt\n",
        "\n",
        "# Accuracy Plot\n",
        "plt.figure(figsize=(10,4))\n",
        "plt.plot(history_overlap.history['accuracy'], label='Train Accuracy')\n",
        "plt.plot(history_overlap.history['val_accuracy'], label='Validation Accuracy')\n",
        "plt.title(\"Training vs Validation Accuracy\")\n",
        "plt.xlabel(\"Epochs\")\n",
        "plt.ylabel(\"Accuracy\")\n",
        "plt.legend()\n",
        "plt.grid(True)\n",
        "plt.show()\n",
        "\n",
        "# Loss Plot\n",
        "plt.figure(figsize=(10,4))\n",
        "plt.plot(history_overlap.history['loss'], label='Train Loss')\n",
        "plt.plot(history_overlap.history['val_loss'], label='Validation Loss')\n",
        "plt.title(\"Training vs Validation Loss\")\n",
        "plt.xlabel(\"Epochs\")\n",
        "plt.ylabel(\"Loss\")\n",
        "plt.legend()\n",
        "plt.grid(True)\n",
        "plt.show()\n"
      ],
      "metadata": {
        "id": "4MG2842m6sCs"
      },
      "execution_count": null,
      "outputs": []
    },
    {
      "cell_type": "code",
      "source": [
        "# Saving model for future use\n",
        "model_overlap.save(\"sEMG_model.h5\")"
      ],
      "metadata": {
        "id": "ukL_mExtHN_U"
      },
      "execution_count": null,
      "outputs": []
    },
    {
      "cell_type": "markdown",
      "source": [
        "# Below are all the methods which I tried but  couldn't achieve desired results."
      ],
      "metadata": {
        "id": "Cgob2dB3u8s0"
      }
    },
    {
      "cell_type": "code",
      "source": [
        "# import scipy.io as sio\n",
        "# import numpy as np\n",
        "# from sklearn.preprocessing import StandardScaler\n",
        "\n",
        "# # Load EMG & labels from MAT file\n",
        "# data = sio.loadmat('/content/drive/MyDrive/Ninapro sEMG Dataset/s1/S1_A1_E1.mat')\n",
        "\n",
        "# emg = data['emg']           # EMG signals\n",
        "# labels = data['restimulus'] # Gesture labels\n",
        "\n",
        "# print(\"EMG shape:\", emg.shape)\n",
        "# print(\"Labels shape:\", labels.shape)\n",
        "\n",
        "# # Parameters\n",
        "# window_size = 500\n",
        "# segments = []\n",
        "# segment_labels = []\n",
        "\n",
        "# # Create segments\n",
        "# for i in range(0, len(emg) - window_size, window_size):\n",
        "#     segments.append(emg[i:i+window_size])\n",
        "#     segment_labels.append(labels[i+window_size//2])  # mid label\n",
        "\n",
        "# segments = np.array(segments)\n",
        "# segment_labels = np.array(segment_labels)\n",
        "\n",
        "# # Normalize\n",
        "# scaler = StandardScaler()\n",
        "# segments_reshaped = segments.reshape(-1, segments.shape[-1])\n",
        "# segments_scaled = scaler.fit_transform(segments_reshaped)\n",
        "# segments_scaled = segments_scaled.reshape(segments.shape)\n",
        "\n",
        "# print(\"Segments scaled shape:\", segments_scaled.shape)\n"
      ],
      "metadata": {
        "id": "AJncCk9zdI1T"
      },
      "execution_count": null,
      "outputs": []
    },
    {
      "cell_type": "code",
      "source": [
        "# from vmdpy import VMD\n",
        "\n",
        "# # Example: Take one EMG channel segment\n",
        "# signal = segments_scaled[0,:,0]  # first segment, channel 0\n",
        "\n",
        "# # VMD parameters\n",
        "# alpha = 2000        # moderate bandwidth constraint\n",
        "# tau = 0             # noise-tolerance (0 for noise-free)\n",
        "# K = 5               # number of modes (IMFs)\n",
        "# DC = 0              # no DC component\n",
        "# init = 1            # initialize omegas uniformly\n",
        "# tol = 1e-7\n",
        "\n",
        "# # Run VMD\n",
        "# u, u_hat, omega = VMD(signal, alpha, tau, K, DC, init, tol)\n",
        "\n",
        "# print(\"Shape of IMFs:\", u.shape)  # (K, length of signal)"
      ],
      "metadata": {
        "id": "Fx1ocu91hfQj"
      },
      "execution_count": null,
      "outputs": []
    },
    {
      "cell_type": "markdown",
      "source": [
        "Building CNN-LSTM Model"
      ],
      "metadata": {
        "id": "002wCWkZkRkF"
      }
    },
    {
      "cell_type": "code",
      "source": [
        "# from tensorflow.keras.models import Sequential\n",
        "# from tensorflow.keras.layers import Conv1D, MaxPooling1D, LSTM, Dense, Dropout\n",
        "\n",
        "# model = Sequential()\n",
        "\n",
        "# # CNN layers\n",
        "# model.add(Conv1D(16, kernel_size=3, activation='relu', input_shape=(500, 3)))\n",
        "# model.add(MaxPooling1D(pool_size=2))\n",
        "# model.add(Conv1D(32, kernel_size=4, activation='relu'))\n",
        "# model.add(MaxPooling1D(pool_size=2))\n",
        "# model.add(Conv1D(64, kernel_size=5, activation='relu'))\n",
        "# model.add(MaxPooling1D(pool_size=4))\n",
        "\n",
        "# # LSTM\n",
        "# model.add(LSTM(100))\n",
        "\n",
        "# # Dense layers\n",
        "# model.add(Dense(64, activation='sigmoid'))\n",
        "# model.add(Dropout(0.2))\n",
        "# model.add(Dense(num_classes, activation='softmax'))\n",
        "\n",
        "# model.compile(optimizer='adam', loss='categorical_crossentropy', metrics=['accuracy'])\n",
        "\n",
        "# model.summary()"
      ],
      "metadata": {
        "id": "HLd_zGE5mUYl"
      },
      "execution_count": null,
      "outputs": []
    },
    {
      "cell_type": "code",
      "source": [
        "# history = model.fit(\n",
        "#     X_train, y_train,\n",
        "#     validation_data=(X_test, y_test),\n",
        "#     epochs=30,\n",
        "#     batch_size=16\n",
        "# )"
      ],
      "metadata": {
        "id": "ft2cKKrgmaQM"
      },
      "execution_count": null,
      "outputs": []
    },
    {
      "cell_type": "code",
      "source": [
        "# import scipy.io as sio\n",
        "# import numpy as np\n",
        "\n",
        "# data_path1 = \"/content/drive/MyDrive/Ninapro sEMG Dataset/s1/\"\n",
        "# data_path2 = \"/content/drive/MyDrive/Ninapro sEMG Dataset/s2/\"\n",
        "\n",
        "# files_s1 = [f\"{data_path1}S1_A1_E1.mat\", f\"{data_path1}S1_A1_E2.mat\", f\"{data_path1}S1_A1_E3.mat\"]\n",
        "# files_s2 = [f\"{data_path2}S2_A1_E1.mat\", f\"{data_path2}S2_A1_E2.mat\", f\"{data_path2}S2_A1_E3.mat\"]\n",
        "\n",
        "# def load_emg_multiple_subjects(file_groups):\n",
        "#     emg_all = []\n",
        "#     labels_all = []\n",
        "\n",
        "#     for files in file_groups:\n",
        "#         for f in files:\n",
        "#             print(f\"Loading {f}...\")\n",
        "#             data = sio.loadmat(f)\n",
        "#             emg_all.append(data['emg'])\n",
        "#             labels_all.append(data['restimulus'])\n",
        "\n",
        "#     return np.vstack(emg_all), np.vstack(labels_all)\n",
        "\n",
        "# emg_data, labels_data = load_emg_multiple_subjects([files_s1, files_s2])\n",
        "\n",
        "# print(\"Combined EMG shape:\", emg_data.shape)\n",
        "# print(\"Combined Labels shape:\", labels_data.shape)\n"
      ],
      "metadata": {
        "id": "lB_DUif0sPY5"
      },
      "execution_count": null,
      "outputs": []
    },
    {
      "cell_type": "markdown",
      "source": [
        "# Segmentation"
      ],
      "metadata": {
        "id": "J3A4IPC7xDn0"
      }
    },
    {
      "cell_type": "code",
      "source": [
        "# from sklearn.preprocessing import StandardScaler\n",
        "# import numpy as np\n",
        "\n",
        "# # Parameters\n",
        "# window_size = 500\n",
        "# segments = []\n",
        "# segment_labels = []\n",
        "\n",
        "# # Segment EMG data\n",
        "# for i in range(0, len(emg_data) - window_size, window_size):\n",
        "#     segments.append(emg_data[i:i+window_size])\n",
        "#     segment_labels.append(labels_data[i+window_size//2])\n",
        "\n",
        "# segments = np.array(segments)\n",
        "# segment_labels = np.array(segment_labels)\n",
        "\n",
        "# print(\"Segments shape:\", segments.shape)\n",
        "# print(\"Labels shape:\", segment_labels.shape)\n"
      ],
      "metadata": {
        "id": "VYrmp5Pzs4Jo"
      },
      "execution_count": null,
      "outputs": []
    },
    {
      "cell_type": "markdown",
      "source": [
        "# Normalization"
      ],
      "metadata": {
        "id": "_MD3f80IxRgh"
      }
    },
    {
      "cell_type": "code",
      "source": [
        "# # Normalize segments\n",
        "# scaler = StandardScaler()\n",
        "# segments_reshaped = segments.reshape(-1, segments.shape[-1])\n",
        "# segments_scaled = scaler.fit_transform(segments_reshaped)\n",
        "# segments_scaled = segments_scaled.reshape(segments.shape)\n",
        "\n",
        "# print(\"Segments scaled shape:\", segments_scaled.shape)\n"
      ],
      "metadata": {
        "id": "wAuMRlczs6ah"
      },
      "execution_count": null,
      "outputs": []
    },
    {
      "cell_type": "markdown",
      "source": [
        "# VMD Decompostion"
      ],
      "metadata": {
        "id": "WO3iR0MxxV1j"
      }
    },
    {
      "cell_type": "code",
      "source": [
        "# from vmdpy import VMD\n",
        "\n",
        "# alpha, tau, K, DC, init, tol = 2000, 0, 5, 0, 1, 1e-7\n",
        "# imf_segments = []\n",
        "# labels_for_imf = []\n",
        "\n",
        "# # Apply VMD on each segment\n",
        "# for idx, seg in enumerate(segments_scaled):\n",
        "#     signal = seg[:, 0]  # Use Channel 0\n",
        "#     u, _, _ = VMD(signal, alpha, tau, K, DC, init, tol)\n",
        "#     selected_imfs = u[1:4]  # IMF2–IMF4\n",
        "#     imf_segments.append(selected_imfs.T)\n",
        "#     labels_for_imf.append(segment_labels[idx])\n",
        "\n",
        "# imf_segments = np.array(imf_segments)\n",
        "# labels_for_imf = np.array(labels_for_imf)\n",
        "\n",
        "# print(\"IMF segments shape:\", imf_segments.shape)\n"
      ],
      "metadata": {
        "id": "M9C24hPTt5yp"
      },
      "execution_count": null,
      "outputs": []
    },
    {
      "cell_type": "markdown",
      "source": [
        "# Filter Valid Gestures"
      ],
      "metadata": {
        "id": "u4zvd6a2xlkF"
      }
    },
    {
      "cell_type": "code",
      "source": [
        "# from tensorflow.keras.utils import to_categorical\n",
        "\n",
        "# labels_clean = labels_for_imf.flatten()\n",
        "# valid_indices = np.where((labels_clean >= 1) & (labels_clean <= 10))[0]\n",
        "\n",
        "# X_valid = imf_segments[valid_indices]\n",
        "# y_valid = labels_clean[valid_indices]\n",
        "\n",
        "# num_classes = len(np.unique(y_valid))\n",
        "# y_categorical = to_categorical(y_valid - 1, num_classes=num_classes)\n",
        "\n",
        "# print(\"Final dataset shape:\", X_valid.shape, y_categorical.shape)"
      ],
      "metadata": {
        "id": "jH6l-ugLuG60"
      },
      "execution_count": null,
      "outputs": []
    },
    {
      "cell_type": "markdown",
      "source": [
        "# Train-Test Split"
      ],
      "metadata": {
        "id": "4S8HnUNvxu4t"
      }
    },
    {
      "cell_type": "code",
      "source": [
        "# from sklearn.model_selection import train_test_split\n",
        "\n",
        "# X_train, X_test, y_train, y_test = train_test_split(\n",
        "#     X_valid, y_categorical, test_size=0.2, random_state=42, stratify=y_categorical\n",
        "# )\n",
        "\n",
        "# print(\"Train set shape:\", X_train.shape, y_train.shape)\n",
        "# print(\"Test set shape:\", X_test.shape, y_test.shape)\n"
      ],
      "metadata": {
        "id": "2Fgt-bYRxy6d"
      },
      "execution_count": null,
      "outputs": []
    },
    {
      "cell_type": "markdown",
      "source": [
        "# CNN-LSTM Model"
      ],
      "metadata": {
        "id": "9bnlr0t-yazZ"
      }
    },
    {
      "cell_type": "code",
      "source": [
        "# from tensorflow.keras.models import Sequential\n",
        "# from tensorflow.keras.layers import Conv1D, MaxPooling1D, LSTM, Dense, Dropout\n",
        "# from tensorflow.keras.optimizers import Adam\n",
        "\n",
        "# # Build CNN–LSTM Model\n",
        "# model = Sequential()\n",
        "\n",
        "# # CNN Layers\n",
        "# model.add(Conv1D(16, kernel_size=3, activation='relu', input_shape=(500, 3)))\n",
        "# model.add(MaxPooling1D(pool_size=2))\n",
        "# model.add(Conv1D(32, kernel_size=4, activation='relu'))\n",
        "# model.add(MaxPooling1D(pool_size=2))\n",
        "# model.add(Conv1D(64, kernel_size=5, activation='relu'))\n",
        "# model.add(MaxPooling1D(pool_size=4))\n",
        "\n",
        "# # LSTM Layer\n",
        "# model.add(LSTM(100))\n",
        "\n",
        "# # Fully Connected Layers\n",
        "# model.add(Dense(64, activation='sigmoid'))\n",
        "# model.add(Dropout(0.3))  # slightly higher dropout for regularization\n",
        "# model.add(Dense(num_classes, activation='softmax'))\n",
        "\n",
        "# # Compile Model\n",
        "# model.compile(optimizer=Adam(learning_rate=0.0005),\n",
        "#               loss='categorical_crossentropy',\n",
        "#               metrics=['accuracy'])\n",
        "\n",
        "# # Model Summary\n",
        "# model.summary()"
      ],
      "metadata": {
        "id": "M25-l4_2ye1Z"
      },
      "execution_count": null,
      "outputs": []
    },
    {
      "cell_type": "code",
      "source": [
        "# history = model.fit(\n",
        "#     X_train, y_train,\n",
        "#     validation_data=(X_test, y_test),\n",
        "#     epochs=30,           # you can increase to 50 if accuracy is improving\n",
        "#     batch_size=32\n",
        "# )"
      ],
      "metadata": {
        "id": "KYIbicDGyppT"
      },
      "execution_count": null,
      "outputs": []
    },
    {
      "cell_type": "code",
      "source": [
        "# print(\"Train X shape:\", X_train.shape)\n",
        "# print(\"Train Y shape:\", y_train.shape)\n",
        "# print(\"Unique gesture labels:\", np.unique(np.argmax(y_train, axis=1)))\n"
      ],
      "metadata": {
        "id": "PeSTfjp4zYdl"
      },
      "execution_count": null,
      "outputs": []
    },
    {
      "cell_type": "code",
      "source": [
        "# import numpy as np\n",
        "# unique, counts = np.unique(np.argmax(y_train, axis=1), return_counts=True)\n",
        "# print(\"Class distribution:\", dict(zip(unique, counts)))\n"
      ],
      "metadata": {
        "id": "poLSjQKdzsfm"
      },
      "execution_count": null,
      "outputs": []
    },
    {
      "cell_type": "code",
      "source": [
        "# from sklearn.model_selection import train_test_split\n",
        "# from tensorflow.keras.utils import to_categorical\n",
        "\n",
        "# # Filter valid gestures (1–10)\n",
        "# labels_clean_raw = segment_labels.flatten()\n",
        "# valid_indices_raw = np.where((labels_clean_raw >= 1) & (labels_clean_raw <= 10))[0]\n",
        "\n",
        "# X_raw = segments_scaled[valid_indices_raw]\n",
        "# y_raw = labels_clean_raw[valid_indices_raw]\n",
        "\n",
        "# # One-hot encode labels\n",
        "# num_classes_raw = len(np.unique(y_raw))\n",
        "# y_categorical_raw = to_categorical(y_raw - 1, num_classes=num_classes_raw)\n",
        "\n",
        "# # Train-Test Split\n",
        "# X_train_raw, X_test_raw, y_train_raw, y_test_raw = train_test_split(\n",
        "#     X_raw, y_categorical_raw, test_size=0.2, random_state=42, stratify=y_categorical_raw\n",
        "# )\n",
        "\n",
        "# print(\"Raw Train shape:\", X_train_raw.shape)\n",
        "# print(\"Raw Test shape:\", X_test_raw.shape)\n",
        "\n",
        "# from tensorflow.keras.models import Sequential\n",
        "# from tensorflow.keras.layers import Conv1D, MaxPooling1D, LSTM, Dense, Dropout\n",
        "# from tensorflow.keras.optimizers import Adam\n",
        "\n",
        "# model_raw = Sequential()\n",
        "\n",
        "# # CNN Layers\n",
        "# model_raw.add(Conv1D(16, kernel_size=3, activation='relu', input_shape=(500, X_train_raw.shape[2])))\n",
        "# model_raw.add(MaxPooling1D(pool_size=2))\n",
        "# model_raw.add(Conv1D(32, kernel_size=4, activation='relu'))\n",
        "# model_raw.add(MaxPooling1D(pool_size=2))\n",
        "# model_raw.add(Conv1D(64, kernel_size=5, activation='relu'))\n",
        "# model_raw.add(MaxPooling1D(pool_size=4))\n",
        "\n",
        "# # LSTM Layer\n",
        "# model_raw.add(LSTM(100))\n",
        "\n",
        "# # Dense Layers\n",
        "# model_raw.add(Dense(64, activation='sigmoid'))\n",
        "# model_raw.add(Dropout(0.3))\n",
        "# model_raw.add(Dense(num_classes_raw, activation='softmax'))\n",
        "\n",
        "# model_raw.compile(optimizer=Adam(learning_rate=0.0005),\n",
        "#                   loss='categorical_crossentropy',\n",
        "#                   metrics=['accuracy'])\n",
        "\n",
        "# model_raw.summary()\n",
        "\n",
        "# history_raw = model_raw.fit(\n",
        "#     X_train_raw, y_train_raw,\n",
        "#     validation_data=(X_test_raw, y_test_raw),\n",
        "#     epochs=30,\n",
        "#     batch_size=32\n",
        "# )\n"
      ],
      "metadata": {
        "id": "x8Us-_1e0slF"
      },
      "execution_count": null,
      "outputs": []
    },
    {
      "cell_type": "markdown",
      "source": [
        "# Variational Mode Decomposition"
      ],
      "metadata": {
        "id": "DYAzq3B4tuOg"
      }
    },
    {
      "cell_type": "code",
      "source": [
        "# from vmdpy import VMD\n",
        "\n",
        "# # VMD parameters (tuned closer to paper)\n",
        "# alpha = 2000       # Bandwidth constraint\n",
        "# tau = 0            # Noise-tolerance (0 for noise-free)\n",
        "# K = 5              # Number of modes (IMFs)\n",
        "# DC = 0             # No DC component\n",
        "# init = 1           # Initialize omegas uniformly\n",
        "# tol = 1e-7\n",
        "\n",
        "# imf_segments = []\n",
        "# labels_for_imf = []\n",
        "\n",
        "# print(\"Running VMD on all segments...\")\n",
        "\n",
        "# for idx, seg in enumerate(segments_scaled):\n",
        "#     signal = seg[:, 0]  # Channel 0 for now (we can add multi-channel later)\n",
        "#     u, _, _ = VMD(signal, alpha, tau, K, DC, init, tol)\n",
        "\n",
        "#     # Select IMF2–IMF4\n",
        "#     selected_imfs = u[1:4]  # Shape: (3, length)\n",
        "#     imf_segments.append(selected_imfs.T)  # Transpose to (length, 3)\n",
        "#     labels_for_imf.append(segment_labels[idx])\n",
        "\n",
        "# imf_segments = np.array(imf_segments)\n",
        "# labels_for_imf = np.array(labels_for_imf)\n",
        "\n",
        "# print(\"✅ IMF segments shape:\", imf_segments.shape)\n",
        "# print(\"✅ IMF labels shape:\", labels_for_imf.shape)\n"
      ],
      "metadata": {
        "id": "hpuJUTuitMU9"
      },
      "execution_count": null,
      "outputs": []
    },
    {
      "cell_type": "markdown",
      "source": [
        "# Filter Valid Gestures and Train/Test Split"
      ],
      "metadata": {
        "id": "2dnp09s0t34-"
      }
    },
    {
      "cell_type": "code",
      "source": [
        "# from tensorflow.keras.utils import to_categorical\n",
        "# from sklearn.model_selection import train_test_split\n",
        "\n",
        "# # Flatten labels\n",
        "# labels_clean = labels_for_imf.flatten()\n",
        "\n",
        "# # Keep only gestures 1–10\n",
        "# valid_indices = np.where((labels_clean >= 1) & (labels_clean <= 10))[0]\n",
        "\n",
        "# X_vmd = imf_segments[valid_indices]\n",
        "# y_vmd = labels_clean[valid_indices]\n",
        "\n",
        "# # One-hot encode labels\n",
        "# num_classes = len(np.unique(y_vmd))\n",
        "# y_vmd_categorical = to_categorical(y_vmd - 1, num_classes=num_classes)\n",
        "\n",
        "# # Train-Test split\n",
        "# X_train_vmd, X_test_vmd, y_train_vmd, y_test_vmd = train_test_split(\n",
        "#     X_vmd, y_vmd_categorical,\n",
        "#     test_size=0.2,\n",
        "#     random_state=42,\n",
        "#     stratify=y_vmd_categorical\n",
        "# )\n",
        "\n",
        "# print(\"✅ VMD Train shape:\", X_train_vmd.shape, y_train_vmd.shape)\n",
        "# print(\"✅ VMD Test shape:\", X_test_vmd.shape, y_test_vmd.shape)\n"
      ],
      "metadata": {
        "id": "Y5mCSvyKthAb"
      },
      "execution_count": null,
      "outputs": []
    },
    {
      "cell_type": "code",
      "source": [
        "# import matplotlib.pyplot as plt\n",
        "\n",
        "# plt.figure(figsize=(10,5))\n",
        "# plt.plot(X_train[0])   # One gesture\n",
        "# plt.plot(X_train[50])  # Another gesture\n",
        "# plt.legend([\"IMF2\",\"IMF3\",\"IMF4\"])\n",
        "# plt.title(\"IMF comparison between two gestures\")\n",
        "# plt.show()\n"
      ],
      "metadata": {
        "id": "M97RtAar0Aad"
      },
      "execution_count": null,
      "outputs": []
    },
    {
      "cell_type": "markdown",
      "source": [
        "# VMD Parameter Tuning"
      ],
      "metadata": {
        "id": "5dbGuD43eMrz"
      }
    },
    {
      "cell_type": "code",
      "source": [
        "# # Tuned VMD parameters (based on EMG studies)\n",
        "# alpha = 1000       # lower bandwidth → better separation\n",
        "# tau = 0\n",
        "# K = 6              # more modes → better IMF diversity\n",
        "# DC = 0\n",
        "# init = 1\n",
        "# tol = 1e-7\n",
        "\n",
        "# imf_segments_tuned = []\n",
        "# labels_for_imf_tuned = []\n",
        "\n",
        "# print(\"Running VMD with tuned parameters...\")\n",
        "\n",
        "# for idx, seg in enumerate(segments_scaled):\n",
        "#     signal = seg[:, 0]  # Channel 0 for now\n",
        "#     u, _, _ = VMD(signal, alpha, tau, K, DC, init, tol)\n",
        "\n",
        "#     # Select IMF2–IMF4 (more distinct now)\n",
        "#     selected_imfs = u[1:4]\n",
        "#     imf_segments_tuned.append(selected_imfs.T)\n",
        "#     labels_for_imf_tuned.append(segment_labels[idx])\n",
        "\n",
        "# imf_segments_tuned = np.array(imf_segments_tuned)\n",
        "# labels_for_imf_tuned = np.array(labels_for_imf_tuned)\n",
        "\n",
        "# print(\"✅ Tuned IMF shape:\", imf_segments_tuned.shape)\n"
      ],
      "metadata": {
        "id": "K5yoBYPuKi4G"
      },
      "execution_count": null,
      "outputs": []
    },
    {
      "cell_type": "markdown",
      "source": [
        "# CNN-LSTM Model"
      ],
      "metadata": {
        "id": "aXgiAN8Kt8Zr"
      }
    },
    {
      "cell_type": "code",
      "source": [
        "# from tensorflow.keras.models import Sequential\n",
        "# from tensorflow.keras.layers import Conv1D, MaxPooling1D, BatchNormalization, LSTM, Dense, Dropout\n",
        "# from tensorflow.keras.optimizers import Adam\n",
        "# from tensorflow.keras.callbacks import EarlyStopping\n",
        "\n",
        "# model = Sequential()\n",
        "\n",
        "# # CNN Block 1\n",
        "# model.add(Conv1D(64, kernel_size=3, activation='relu', input_shape=(500, 10)))\n",
        "# model.add(BatchNormalization())\n",
        "# model.add(MaxPooling1D(pool_size=2))\n",
        "# model.add(Dropout(0.3))\n",
        "\n",
        "# # CNN Block 2\n",
        "# model.add(Conv1D(128, kernel_size=4, activation='relu'))\n",
        "# model.add(BatchNormalization())\n",
        "# model.add(MaxPooling1D(pool_size=2))\n",
        "# model.add(Dropout(0.3))\n",
        "\n",
        "# # CNN Block 3\n",
        "# model.add(Conv1D(256, kernel_size=5, activation='relu'))\n",
        "# model.add(BatchNormalization())\n",
        "# model.add(MaxPooling1D(pool_size=4))\n",
        "# model.add(Dropout(0.3))\n",
        "\n",
        "# # LSTM\n",
        "# model.add(LSTM(128, dropout=0.3, recurrent_dropout=0.2))\n",
        "\n",
        "# # Dense Layers\n",
        "# model.add(Dense(128, activation='relu'))\n",
        "# model.add(Dropout(0.4))\n",
        "# model.add(Dense(10, activation='softmax'))\n",
        "\n",
        "# # Compile\n",
        "# model.compile(optimizer=Adam(learning_rate=0.0003),\n",
        "#               loss='categorical_crossentropy',\n",
        "#               metrics=['accuracy'])\n",
        "\n",
        "# model.summary()\n"
      ],
      "metadata": {
        "id": "BLQXCeC_tky8"
      },
      "execution_count": null,
      "outputs": []
    },
    {
      "cell_type": "markdown",
      "source": [
        "Early Stopping"
      ],
      "metadata": {
        "id": "o8iXiUMGuPfr"
      }
    },
    {
      "cell_type": "code",
      "source": [
        "# early_stop = EarlyStopping(monitor='val_accuracy', patience=10, restore_best_weights=True)\n",
        "\n",
        "# history = model.fit(\n",
        "#     X_train, y_train,\n",
        "#     validation_data=(X_test, y_test),\n",
        "#     epochs=80,\n",
        "#     batch_size=32,\n",
        "#     callbacks=[early_stop]\n",
        "# )"
      ],
      "metadata": {
        "id": "vnOzda9HuJTe"
      },
      "execution_count": null,
      "outputs": []
    },
    {
      "cell_type": "markdown",
      "source": [
        "Augmentation to fix overfitting"
      ],
      "metadata": {
        "id": "_KgvqcLpzmpJ"
      }
    },
    {
      "cell_type": "code",
      "source": [
        "# def augment_emg(X):\n",
        "#     X_aug = X.copy()\n",
        "\n",
        "#     # Add Gaussian Noise\n",
        "#     noise = np.random.normal(0, 0.02, X.shape)\n",
        "#     X_aug += noise\n",
        "\n",
        "#     # Scale\n",
        "#     scale = np.random.uniform(0.9, 1.1, (X.shape[0], 1, X.shape[2]))\n",
        "#     X_aug *= scale\n",
        "\n",
        "#     return X_aug\n",
        "\n",
        "# # Augment training data\n",
        "# X_train_aug = augment_emg(X_train)\n",
        "# y_train_aug = y_train.copy()\n",
        "\n",
        "# # Combine original + augmented\n",
        "# X_train_final = np.vstack([X_train, X_train_aug])\n",
        "# y_train_final = np.vstack([y_train, y_train_aug])\n",
        "\n",
        "# print(\"New Training Shape:\", X_train_final.shape)\n"
      ],
      "metadata": {
        "id": "k4ORJZu6yyyL"
      },
      "execution_count": null,
      "outputs": []
    },
    {
      "cell_type": "markdown",
      "source": [
        "Only for s1-s5, still overfitting.\n",
        "\n",
        "Increasing data"
      ],
      "metadata": {
        "id": "3h0ol5aj9piL"
      }
    },
    {
      "cell_type": "code",
      "source": [
        "# from tensorflow.keras.callbacks import EarlyStopping\n",
        "\n",
        "# model_final = Sequential()\n",
        "\n",
        "# # CNN Block 1\n",
        "# model_final.add(Conv1D(64, kernel_size=3, activation='relu', input_shape=(500, 10)))\n",
        "# model_final.add(BatchNormalization())\n",
        "# model_final.add(MaxPooling1D(pool_size=2))\n",
        "# model_final.add(Dropout(0.4))  # Increased dropout\n",
        "\n",
        "# # CNN Block 2\n",
        "# model_final.add(Conv1D(128, kernel_size=4, activation='relu'))\n",
        "# model_final.add(BatchNormalization())\n",
        "# model_final.add(MaxPooling1D(pool_size=2))\n",
        "# model_final.add(Dropout(0.4))\n",
        "\n",
        "# # CNN Block 3\n",
        "# model_final.add(Conv1D(256, kernel_size=5, activation='relu'))\n",
        "# model_final.add(BatchNormalization())\n",
        "# model_final.add(MaxPooling1D(pool_size=4))\n",
        "# model_final.add(Dropout(0.4))\n",
        "\n",
        "# # LSTM\n",
        "# model_final.add(LSTM(128, dropout=0.4, recurrent_dropout=0.3))\n",
        "\n",
        "# # Dense Layers\n",
        "# model_final.add(Dense(128, activation='relu'))\n",
        "# model_final.add(Dropout(0.5))\n",
        "# model_final.add(Dense(10, activation='softmax'))\n",
        "\n",
        "# # Compile\n",
        "# model_final.compile(optimizer=Adam(learning_rate=0.0003),\n",
        "#                     loss='categorical_crossentropy',\n",
        "#                     metrics=['accuracy'])\n",
        "\n",
        "# early_stop = EarlyStopping(monitor='val_accuracy', patience=10, restore_best_weights=True)\n",
        "\n",
        "# # Train\n",
        "# history_final = model_final.fit(\n",
        "#     X_train_final, y_train_final,\n",
        "#     validation_data=(X_test, y_test),\n",
        "#     epochs=80,\n",
        "#     batch_size=32,\n",
        "#     callbacks=[early_stop]\n",
        "# )\n"
      ],
      "metadata": {
        "id": "rX7kovYAzwSU"
      },
      "execution_count": null,
      "outputs": []
    }
  ]
}